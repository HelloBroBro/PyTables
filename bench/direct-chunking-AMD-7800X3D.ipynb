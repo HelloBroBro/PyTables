{
 "cells": [
  {
   "cell_type": "code",
   "execution_count": 1,
   "id": "82b847e6d9e2cc0",
   "metadata": {
    "ExecuteTime": {
     "end_time": "2024-07-24T08:59:26.978496Z",
     "start_time": "2024-07-24T08:59:26.419317Z"
    }
   },
   "outputs": [],
   "source": [
    "import time\n",
    "import blosc2 as b2\n",
    "import numpy as np\n",
    "import tables as tb\n",
    "import os\n",
    "import matplotlib.pyplot as plt"
   ]
  },
  {
   "cell_type": "code",
   "execution_count": 2,
   "id": "a80c910ca02f49e0",
   "metadata": {
    "ExecuteTime": {
     "end_time": "2024-07-24T08:59:26.982122Z",
     "start_time": "2024-07-24T08:59:26.979712Z"
    }
   },
   "outputs": [],
   "source": [
    "# A tomography-like array: a stack of 2D images (greyscale).\n",
    "# Each image corresponds to a chunk in the array.\n",
    "shape = (10, 25600, 19200)\n",
    "dtype = np.dtype('u2')\n",
    "# shape = (100, 256, 256)  # for tests\n",
    "chunkshape = (1, *shape[1:])\n",
    "clevel = 5\n",
    "# The next can be set as environment variables or directly here.\n",
    "# To select the compressor, and compression level for the regular HDF5 Blosc2 filter\n",
    "os.environ[\"BLOSC_CLEVEL\"] = str(clevel)\n",
    "os.environ[\"BLOSC_COMPRESSOR\"] = \"zstd\"\n",
    "# You can play with different filters here (NOSHUFFLE/SHUFFLE/BITSHUFFLE)\n",
    "#os.environ[\"BLOSC_SHUFFLE\"] = \"SHUFFLE\"\n",
    "# You can set the number of threads for Blosc\n",
    "#os.environ['BLOSC_NTHREADS'] = str(b2.nthreads)"
   ]
  },
  {
   "cell_type": "code",
   "execution_count": 3,
   "id": "c7307a8bb88bddd8",
   "metadata": {
    "ExecuteTime": {
     "end_time": "2024-07-24T08:59:26.984387Z",
     "start_time": "2024-07-24T08:59:26.982762Z"
    }
   },
   "outputs": [],
   "source": [
    "# Blosc2 blockshape cannot be specified via `tb.Filters` because the interface is\n",
    "# not ready for passing it yet, so to compare apples with apples, avoid using it.\n",
    "# However, you may want to experiment with different blockshapes with direct chunking.\n",
    "# b2_blockshape = (1, *tuple(d // 2 for d in chunkshape[1:]))  # 4 blocks per chunk\n",
    "# b2_blockshape = (1, 800, 600)  # around 1 MB per block\n",
    "# blocksize = np.prod(b2_blockshape) * dtype.itemsize\n",
    "# print(\"Blocksize:\", blocksize, b2_blockshape)\n",
    "# Use the next line to set the blocksize for regular I/O.  Unfortunately, this is not\n",
    "# compatible with a multidim blockshape in direct chunking (we are sending different\n",
    "# requirements to the Blosc2 library), so better don't use it.\n",
    "# os.environ['BLOSC_BLOCKSIZE'] = str(blocksize)"
   ]
  },
  {
   "cell_type": "code",
   "execution_count": 4,
   "id": "7e7d2e7bcfcd464a",
   "metadata": {
    "ExecuteTime": {
     "end_time": "2024-07-24T08:59:27.321321Z",
     "start_time": "2024-07-24T08:59:26.985740Z"
    }
   },
   "outputs": [],
   "source": [
    "# The 'image' dataset that will be (repeatedly) stored in the HDF5 file.\n",
    "np_data = (np.arange(np.prod(chunkshape), dtype=dtype)\n",
    "           .reshape(chunkshape))\n",
    "\n",
    "# The measured speeds\n",
    "speeds = {}"
   ]
  },
  {
   "cell_type": "markdown",
   "id": "2073fbed989f97bc",
   "metadata": {},
   "source": [
    "### Direct chunking\n",
    "\n",
    "Let's start by creating a new HDF5 file using direct chunking.  The procedure is as follows:\n",
    "1. Create an extendable array.\n",
    "2. Grow the array to the final size.\n",
    "3. Create the compressed data chunk (cframe).\n",
    "4. Write the compressed data chunk by chunk."
   ]
  },
  {
   "cell_type": "code",
   "execution_count": 5,
   "id": "337bbc38005ef881",
   "metadata": {
    "ExecuteTime": {
     "end_time": "2024-07-24T08:59:32.757711Z",
     "start_time": "2024-07-24T08:59:27.341473Z"
    }
   },
   "outputs": [
    {
     "name": "stdout",
     "output_type": "stream",
     "text": [
      "[direct chunking] Wrote 10 chunks in (5.71 s). Speed: 1722.51 MB/s.\n"
     ]
    }
   ],
   "source": [
    "fname = 'direct-chunking.h5'\n",
    "with (tb.open_file(fname, mode='w') as h5f):\n",
    "    array = h5f.create_earray(\n",
    "        '/', 'array',\n",
    "        atom=tb.Atom.from_dtype(dtype),\n",
    "        shape=(0, *shape[1:]),\n",
    "        # Setting both args tells others that data is compressed using Blosc2,\n",
    "        # and it should not be handled as plain data.\n",
    "        filters=tb.Filters(complevel=clevel, complib='blosc2'),\n",
    "        chunkshape=chunkshape,\n",
    "    )\n",
    "\n",
    "    # First, grow the array without actually storing data.\n",
    "    array.truncate(shape[0])\n",
    "    # Now, do store the data as raw chunks.\n",
    "    coords_tail = (0,) * (len(shape) - 1)\n",
    "\n",
    "    def do_write():\n",
    "        for c in range(shape[0]):\n",
    "            # The same image/chunk will be written over and over again.\n",
    "            b2_data = b2.asarray(np_data, chunks=chunkshape,\n",
    "                                 cparams=dict(clevel=clevel))\n",
    "            wchunk = b2_data.to_cframe()\n",
    "            chunk_coords = (c,) + coords_tail\n",
    "            array.write_chunk(chunk_coords, wchunk)\n",
    "    start = time.time()\n",
    "    do_write()  # cProfile.run('do_write()')\n",
    "    elapsed = time.time() - start\n",
    "    speed = np.prod(shape) * dtype.itemsize / elapsed / 1e6\n",
    "    print(f\"[direct chunking] Wrote {shape[0]} chunks in ({elapsed:.3} s).\"\n",
    "          f\" Speed: {speed:.2f} MB/s.\")\n",
    "    speeds['direct'] = {} \n",
    "    speeds['direct']['write'] = speed"
   ]
  },
  {
   "cell_type": "markdown",
   "id": "e123e547a5cd3d1a",
   "metadata": {},
   "source": [
    "Now, let's read the data back.\n",
    "\n",
    "The procedure is as follows:\n",
    "\n",
    "1. Read the compressed data chunk.\n",
    "2. Decompress the data chunk.\n",
    "3. Read the data into a numpy array from the decompressed data chunk.\n",
    "4. Repeat for all chunks."
   ]
  },
  {
   "cell_type": "code",
   "execution_count": 6,
   "id": "ff10733c19ef2c8f",
   "metadata": {
    "ExecuteTime": {
     "end_time": "2024-07-24T08:59:35.666059Z",
     "start_time": "2024-07-24T08:59:32.759037Z"
    }
   },
   "outputs": [
    {
     "name": "stdout",
     "output_type": "stream",
     "text": [
      "[direct chunking] Read 10 chunks of 9375.0 MB (1.9 s). Speed: 5172.77 MB/s.\n"
     ]
    }
   ],
   "source": [
    "with tb.open_file(fname, mode='r') as h5f:\n",
    "    array = h5f.root.array\n",
    "\n",
    "    coords_tail = (0,) * (len(shape) - 1)\n",
    "    def do_read():\n",
    "        tsize = 0\n",
    "        for c in range(shape[0]):\n",
    "            chunk_coords = (c,) + coords_tail\n",
    "            rchunk = array.read_chunk(chunk_coords)\n",
    "            ndarr = b2.ndarray_from_cframe(rchunk)\n",
    "            np_data2 = ndarr[:]\n",
    "            tsize += np_data2.size\n",
    "        return tsize * dtype.itemsize\n",
    "    start = time.time()\n",
    "    tsize = do_read()\n",
    "    elapsed = time.time() - start\n",
    "    assert tsize == np.prod(shape) * dtype.itemsize\n",
    "    speed = np.prod(shape) * dtype.itemsize / elapsed / 1e6\n",
    "    print(f\"[direct chunking] Read {shape[0]} chunks of {tsize/2**20} MB ({elapsed:.3} s).\"\n",
    "          f\" Speed: {speed:.2f} MB/s.\")\n",
    "    speeds['direct']['read'] = speed"
   ]
  },
  {
   "cell_type": "markdown",
   "id": "c9a04e0d34d85659",
   "metadata": {},
   "source": [
    "## Regular chunking\n",
    "\n",
    "Let's now create a new HDF5 file using regular chunking.  The procedure is as follows:\n",
    "1. Create an extendable array, using Blosc2 as a compressor.\n",
    "2. Grow the array to the final size.\n",
    "3. Write the data chunk by chunk (the HDF5 pipeline will call Blosc2 automatically)."
   ]
  },
  {
   "cell_type": "code",
   "execution_count": 7,
   "id": "f60cdacf9a59b39c",
   "metadata": {
    "ExecuteTime": {
     "end_time": "2024-07-24T08:59:51.756959Z",
     "start_time": "2024-07-24T08:59:35.667420Z"
    }
   },
   "outputs": [
    {
     "name": "stdout",
     "output_type": "stream",
     "text": [
      "[regular chunking] Wrote 10 chunks in (21.5 s). Speed: 458.24 MB/s.\n"
     ]
    }
   ],
   "source": [
    "fname2 = 'regular-chunking.h5'\n",
    "with tb.open_file(fname2, mode='w') as h5f:\n",
    "    array = h5f.create_earray(\n",
    "        '/', 'array',\n",
    "        atom=tb.Atom.from_dtype(dtype),\n",
    "        shape=(0, *shape[1:]),\n",
    "        # Setting both args tells others that data is compressed using Blosc2,\n",
    "        # and it should not be handled as plain data.\n",
    "        filters=tb.Filters(complevel=clevel, complib='blosc2'),\n",
    "        chunkshape=chunkshape,\n",
    "    )\n",
    "\n",
    "    # First, grow the array without actually storing data.\n",
    "    array.truncate(shape[0])\n",
    "    # Now, do store the data as raw chunks.\n",
    "    coords_tail = (0,) * (len(shape) - 1)\n",
    "\n",
    "    def do_write():\n",
    "        for c in range(shape[0]):\n",
    "            # The same image/chunk will be written over and over again.\n",
    "            array[c] = np_data\n",
    "    start = time.time()\n",
    "    do_write()  # cProfile.run('do_write()')\n",
    "    elapsed = time.time() - start\n",
    "    speed = np.prod(shape) * dtype.itemsize / elapsed / 1e6\n",
    "    print(f\"[regular chunking] Wrote {shape[0]} chunks in ({elapsed:.3} s).\"\n",
    "          f\" Speed: {speed:.2f} MB/s.\")\n",
    "    speeds['regular'] = {}\n",
    "    speeds['regular']['write'] = speed"
   ]
  },
  {
   "cell_type": "markdown",
   "id": "7b7cf7c9cc2fca0b",
   "metadata": {},
   "source": [
    "Now, let's read the data back.\n",
    "\n",
    "The procedure is as follows:\n",
    "\n",
    "1. Read the compressed data chunk. The HDF5 pipeline will call Blosc2 automatically for decompression.\n",
    "2. Repeat for all chunks."
   ]
  },
  {
   "cell_type": "code",
   "execution_count": 8,
   "id": "522b828c5c889de9",
   "metadata": {
    "ExecuteTime": {
     "end_time": "2024-07-24T08:59:55.397480Z",
     "start_time": "2024-07-24T08:59:51.762261Z"
    }
   },
   "outputs": [
    {
     "name": "stdout",
     "output_type": "stream",
     "text": [
      "[regular chunking] Read 10 chunks of 9375.0 MB (8.35 s). Speed: 1176.62 MB/s.\n"
     ]
    }
   ],
   "source": [
    "with tb.open_file(fname2, mode='r') as h5f:\n",
    "    array = h5f.root.array\n",
    "\n",
    "    coords_tail = (0,) * (len(shape) - 1)\n",
    "    def do_read():\n",
    "        tsize = 0\n",
    "        for c in range(shape[0]):\n",
    "            np_data2 = array[c]\n",
    "            tsize += np_data2.size\n",
    "        return tsize * dtype.itemsize\n",
    "    start = time.time()\n",
    "    tsize = do_read()  # cProfile.run('do_read()')\n",
    "    elapsed = time.time() - start\n",
    "    assert tsize == np.prod(shape) * dtype.itemsize\n",
    "    speed = np.prod(shape) * dtype.itemsize / elapsed / 1e6\n",
    "    print(f\"[regular chunking] Read {shape[0]} chunks of {tsize/2**20} MB ({elapsed:.3} s).\"\n",
    "          f\" Speed: {tsize / elapsed / 1e6:.2f} MB/s.\")\n",
    "    speeds['regular']['read'] = speed"
   ]
  },
  {
   "cell_type": "code",
   "execution_count": 9,
   "id": "2b0be52ed78882c0",
   "metadata": {
    "ExecuteTime": {
     "end_time": "2024-07-24T08:59:55.541373Z",
     "start_time": "2024-07-24T08:59:55.399537Z"
    }
   },
   "outputs": [
    {
     "data": {
      "image/png": "[encoded data removed]",
      "text/plain": [
       "<Figure size 640x480 with 1 Axes>"
      ]
     },
     "metadata": {},
     "output_type": "display_data"
    }
   ],
   "source": [
    "# Plot the results\n",
    "fig, ax = plt.subplots()\n",
    "#ax.bar(speeds.keys(), speeds.values())\n",
    "ax.bar('direct-write', speeds['direct']['write'], label='Direct write', color='b')\n",
    "ax.bar('regular-write', speeds['regular']['write'], label='Regular write', color='r')\n",
    "ax.bar('direct-read', speeds['direct']['read'], label='Direct read', color='b')\n",
    "ax.bar('regular-read', speeds['regular']['read'], label='Regular read', color='r')\n",
    "ax.set_ylabel('Speed (MB/s)')\n",
    "ax.set_title('Direct vs Regular chunking')\n",
    "plt.show()"
   ]
  },
  {
   "cell_type": "markdown",
   "id": "a3d729aa-0fe5-4a2e-8bda-1a79c7b2e6f3",
   "metadata": {},
   "source": [
    "## Discussion\n",
    "\n",
    "As we can see, direct chunking offers immediate speed benefits for both writing and reading.  The reason is that we are bypassing the HDF5 pipeline for dealing with chunked data, and we are directly using the Blosc2 library for that.  This is particularly beneficial for large datasets, where the overhead of the HDF5 pipeline can be very significant.\n",
    "\n",
    "Note that, if you are careful, and you use a cframe for serializing the data with the direct chunking method, the resulting HDF5 file can still be decompressed with any HDF5-enabled application, as long as it has the Blosc2 filter available.  Fortunately, the [hdf5plugin](https://hdf5plugin.readthedocs.io/en/stable/#) comes with the Blosc2 filter, so you can use it in your Python applications without any problem.\n",
    "\n",
    "Finally, as the direct chunking allows for more direct interaction with the Blosc2 library, you can experiment with different blockshapes, compressors, filters and compression levels, to find the best configuration for your specific needs.  In particular, as [Blosc2 supports multidimensional double partitioning](https://www.blosc.org/posts/blosc2-ndim-intro/), you may want to try with different blockshapes to see if you can get better performance for your specific data access pattern."
   ]
  },
  {
   "cell_type": "code",
   "execution_count": null,
   "id": "3970fb6e-88eb-487f-8b95-f71d4faf92f0",
   "metadata": {},
   "outputs": [],
   "source": []
  }
 ],
 "metadata": {
  "kernelspec": {
   "display_name": "Python 3 (ipykernel)",
   "language": "/gnu/store/1w5v338qk5m8khcazwclprs3znqp6f7f-python-3.10.7/bin/python3",
   "name": "python3"
  },
  "language_info": {
   "codemirror_mode": {
    "name": "ipython",
    "version": 3
   },
   "file_extension": ".py",
   "mimetype": "text/x-python",
   "name": "python",
   "nbconvert_exporter": "python",
   "pygments_lexer": "ipython3",
   "version": "3.10.7"
  }
 },
 "nbformat": 4,
 "nbformat_minor": 5
}
